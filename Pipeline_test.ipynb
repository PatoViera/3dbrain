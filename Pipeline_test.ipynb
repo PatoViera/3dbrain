{
 "cells": [
  {
   "cell_type": "code",
   "execution_count": 1,
   "metadata": {},
   "outputs": [],
   "source": [
    "import nipype.pipeline.engine as pe\n",
    "import nipype.interfaces.io as nio\n",
    "from nipype.interfaces.utility import Function, IdentityInterface\n",
    "from nipype.interfaces.freesurfer import ReconAll, MRIsCombine, MRIsConvert\n",
    "from bids.layout import BIDSLayout"
   ]
  },
  {
   "cell_type": "code",
   "execution_count": 27,
   "metadata": {},
   "outputs": [
    {
     "data": {
      "text/plain": [
       "'/scratch/nbc/pvier002/3dbrain/dset/sub-193/anat/sub-193_run-01_T1w.nii.gz, /scratch/nbc/pvier002/3dbrain/dset/sub-194/anat/sub-194_run-01_T1w.nii.gz, /scratch/nbc/pvier002/3dbrain/dset/sub-198/anat/sub-198_run-01_T1w.nii.gz'"
      ]
     },
     "execution_count": 27,
     "metadata": {},
     "output_type": "execute_result"
    }
   ],
   "source": [
    "def get_niftis(subject_id, data_dir):\n",
    "    \"\"\"\n",
    "    DataGrabber function from \n",
    "    https://miykael.github.io/nipype_tutorial/notebooks/basic_data_input_bids.html\n",
    "    \"\"\"\n",
    "    from bids.layout import BIDSLayout\n",
    "    \n",
    "    layout = BIDSLayout(data_dir)\n",
    "    t1s = [f.path for f in layout.get(subject=subject_id, suffix='T1w', run='01', extension=['.nii', 'nii.gz'])]\n",
    "    delimiter = ', '  # You can choose any delimiter you want\n",
    "\n",
    "    # Use the join() method to convert the list to a string\n",
    "    t1 = delimiter.join(t1s)\n",
    "\n",
    "    return t1\n",
    "    \n",
    "get_niftis([\"193\",'194','198'], \"/scratch/nbc/pvier002/3dbrain/dset\")"
   ]
  },
  {
   "cell_type": "code",
   "execution_count": 9,
   "metadata": {},
   "outputs": [
    {
     "data": {
      "text/plain": [
       "['/scratch/nbc/pvier002/3dbrain/dset/sub-193/anat/sub-193_run-01_T1w.nii.gz',\n",
       " '/scratch/nbc/pvier002/3dbrain/dset/sub-194/anat/sub-194_run-01_T1w.nii.gz',\n",
       " '/scratch/nbc/pvier002/3dbrain/dset/sub-198/anat/sub-198_run-01_T1w.nii.gz',\n",
       " '/scratch/nbc/pvier002/3dbrain/dset/sub-203/anat/sub-203_run-01_T1w.nii.gz']"
      ]
     },
     "execution_count": 9,
     "metadata": {},
     "output_type": "execute_result"
    }
   ],
   "source": [
    "data_dir = \"/scratch/nbc/pvier002/3dbrain/dset\"\n",
    "subject_id = ['193', '194', '198', '203']\n",
    "layout = BIDSLayout(data_dir)\n",
    "#layout.get(return_type='filename', subject=subject_id, suffix='T1w', run='01', extension=['.nii', 'nii.gz'])\n",
    "\n",
    "files = layout.get(return_type='filename', subject=subject_id, suffix='T1w', run='01', extension=['.nii', 'nii.gz'])\n",
    "\n",
    "files"
   ]
  },
  {
   "cell_type": "code",
   "execution_count": 13,
   "metadata": {},
   "outputs": [
    {
     "data": {
      "text/plain": [
       "'/scratch/nbc/pvier002/3dbrain/dset/sub-193/anat/sub-193_run-01_T1w.nii.gz'"
      ]
     },
     "execution_count": 13,
     "metadata": {},
     "output_type": "execute_result"
    }
   ],
   "source": [
    "data_dir = \"/scratch/nbc/pvier002/3dbrain/dset\"\n",
    "subject_id = ['193', '194', '198', '203']\n",
    "layout = BIDSLayout(data_dir)\n",
    "files2 = [f.path for f in layout.get(subject=subject_id, suffix='T1w', run='01', extension=['.nii', 'nii.gz'])]\n",
    "files2[0]"
   ]
  },
  {
   "cell_type": "code",
   "execution_count": null,
   "metadata": {},
   "outputs": [],
   "source": [
    "data_dir = \"/scratch/nbc/pvier002/3dbrain/dset\"\n",
    "subject_id = ['193', '194', '198', '203']\n",
    "layout = BIDSLayout(data_dir)\n",
    "files3 = [f.dirname for f in layout.get(subject=subject_id, suffix='T1w', run='01', extension=['.nii', 'nii.gz'])]\n",
    "files3"
   ]
  },
  {
   "cell_type": "code",
   "execution_count": 26,
   "metadata": {},
   "outputs": [
    {
     "name": "stdout",
     "output_type": "stream",
     "text": [
      "b'\\x01\\x00\\x00\\x00\\x02\\x00\\x00\\x00\\x03\\x00\\x00\\x00\\x04\\x00\\x00\\x00\\x05\\x00\\x00\\x00'\n"
     ]
    },
    {
     "name": "stderr",
     "output_type": "stream",
     "text": [
      "/tmp/ipykernel_7573/1484706562.py:7: DeprecationWarning: tostring() is deprecated. Use tobytes() instead.\n",
      "  binary_string = numpy_array.tostring()\n"
     ]
    }
   ],
   "source": [
    "import numpy as np\n",
    "\n",
    "# Create a NumPy array\n",
    "numpy_array = np.array([1, 2, 3, 4, 5], dtype=np.int32)\n",
    "\n",
    "# Convert the NumPy array to a binary string\n",
    "binary_string = numpy_array.tostring()\n",
    "\n",
    "print(binary_string)"
   ]
  },
  {
   "cell_type": "code",
   "execution_count": 1,
   "metadata": {},
   "outputs": [],
   "source": [
    "def get_rh(pial_list):\n",
    "    \"\"\"\n",
    "    Is there a better way of doing this?\n",
    "    \"\"\"\n",
    "    for p in pial_list:\n",
    "        if p.endswith('rh.pial'):\n",
    "            return p\n",
    "\n",
    "def get_lh(pial_list):\n",
    "  \"\"\"\n",
    "  Is there a better way of doing this?\n",
    "  \"\"\"\n",
    "  for p in pial_list:\n",
    "      if p.endswith('lh.pial'):\n",
    "          return p\n",
    "\n",
    "def to_list(f1, f2):\n",
    "    \"\"\"\n",
    "    Simple function to format inputs to MRIsCombine\n",
    "    \"\"\"\n",
    "    return [f1, f2]"
   ]
  },
  {
   "cell_type": "code",
   "execution_count": 3,
   "metadata": {},
   "outputs": [
    {
     "data": {
      "text/plain": [
       "'/scratch/nbc/pvier002/3dbrain/derivatives/freesurfer-7.1/193/surf/rh.pial'"
      ]
     },
     "execution_count": 3,
     "metadata": {},
     "output_type": "execute_result"
    }
   ],
   "source": [
    "get_rh(['/scratch/nbc/pvier002/3dbrain/derivatives/freesurfer-7.1/193/surf/lh.pial','/scratch/nbc/pvier002/3dbrain/derivatives/freesurfer-7.1/193/surf/rh.pial'])"
   ]
  },
  {
   "cell_type": "code",
   "execution_count": null,
   "metadata": {},
   "outputs": [],
   "source": []
  }
 ],
 "metadata": {
  "kernelspec": {
   "display_name": "Python 3 (ipykernel)",
   "language": "python",
   "name": "python3"
  },
  "language_info": {
   "codemirror_mode": {
    "name": "ipython",
    "version": 3
   },
   "file_extension": ".py",
   "mimetype": "text/x-python",
   "name": "python",
   "nbconvert_exporter": "python",
   "pygments_lexer": "ipython3",
   "version": "3.8.16"
  }
 },
 "nbformat": 4,
 "nbformat_minor": 4
}
