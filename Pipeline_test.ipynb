{
 "cells": [
  {
   "cell_type": "code",
   "execution_count": 1,
   "metadata": {},
   "outputs": [],
   "source": [
    "import nipype.pipeline.engine as pe\n",
    "import nipype.interfaces.io as nio\n",
    "from nipype.interfaces.utility import Function, IdentityInterface\n",
    "from nipype.interfaces.freesurfer import ReconAll, MRIsCombine, MRIsConvert\n",
    "from bids.layout import BIDSLayout"
   ]
  },
  {
   "cell_type": "code",
   "execution_count": 21,
   "metadata": {},
   "outputs": [
    {
     "data": {
      "text/plain": [
       "'/home/data/nbc/Sutherland_HIVCB/dset/sub-193/anat/sub-193_run-01_T1w.nii.gz'"
      ]
     },
     "execution_count": 21,
     "metadata": {},
     "output_type": "execute_result"
    }
   ],
   "source": [
    "def get_niftis(subject_id, data_dir):\n",
    "    \"\"\"\n",
    "    DataGrabber function from \n",
    "    https://miykael.github.io/nipype_tutorial/notebooks/basic_data_input_bids.html\n",
    "    \"\"\"\n",
    "    from bids.layout import BIDSLayout\n",
    "    \n",
    "    layout = BIDSLayout(data_dir)\n",
    "    t1s = [f.path for f in layout.get(subject=subject_id, suffix='T1w', run='01', extension=['.nii', 'nii.gz'])]\n",
    "    return t1s[0]\n",
    "\n",
    "get_niftis(\"193\", \"/home/data/nbc/Sutherland_HIVCB/dset\")"
   ]
  },
  {
   "cell_type": "code",
   "execution_count": 18,
   "metadata": {},
   "outputs": [
    {
     "data": {
      "text/plain": [
       "['/home/data/nbc/Sutherland_HIVCB/dset/sub-193/anat/sub-193_run-01_T1w.nii.gz',\n",
       " '/home/data/nbc/Sutherland_HIVCB/dset/sub-194/anat/sub-194_run-01_T1w.nii.gz',\n",
       " '/home/data/nbc/Sutherland_HIVCB/dset/sub-198/anat/sub-198_run-01_T1w.nii.gz',\n",
       " '/home/data/nbc/Sutherland_HIVCB/dset/sub-203/anat/sub-203_run-01_T1w.nii.gz']"
      ]
     },
     "execution_count": 18,
     "metadata": {},
     "output_type": "execute_result"
    }
   ],
   "source": [
    "data_dir = \"/home/data/nbc/Sutherland_HIVCB/dset\"\n",
    "subject_id = ['193', '194', '198', '203']\n",
    "layout = BIDSLayout(data_dir)\n",
    "#layout.get(return_type='filename', subject=subject_id, suffix='T1w', run='01', extension=['.nii', 'nii.gz'])\n",
    "\n",
    "files = layout.get(return_type='filename', subject=subject_id, suffix='T1w', run='01', extension=['.nii', 'nii.gz'])\n",
    "files2 = [f.path for f in layout.get(subject=subject_id, suffix='T1w', run='01', extension=['.nii', 'nii.gz'])]\n",
    "files3 = [f.dirname for f in layout.get(subject=subject_id, suffix='T1w', run='01', extension=['.nii', 'nii.gz'])]\n",
    "\n",
    "files2"
   ]
  },
  {
   "cell_type": "code",
   "execution_count": null,
   "metadata": {},
   "outputs": [],
   "source": []
  },
  {
   "cell_type": "code",
   "execution_count": null,
   "metadata": {},
   "outputs": [],
   "source": []
  }
 ],
 "metadata": {
  "kernelspec": {
   "display_name": "Python 3 (ipykernel)",
   "language": "python",
   "name": "python3"
  },
  "language_info": {
   "codemirror_mode": {
    "name": "ipython",
    "version": 3
   },
   "file_extension": ".py",
   "mimetype": "text/x-python",
   "name": "python",
   "nbconvert_exporter": "python",
   "pygments_lexer": "ipython3",
   "version": "3.8.16"
  }
 },
 "nbformat": 4,
 "nbformat_minor": 4
}
