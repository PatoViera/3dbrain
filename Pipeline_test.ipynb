{
 "cells": [
  {
   "cell_type": "code",
   "execution_count": 1,
   "metadata": {},
   "outputs": [],
   "source": [
    "import nipype.pipeline.engine as pe\n",
    "import nipype.interfaces.io as nio\n",
    "from nipype.interfaces.utility import Function, IdentityInterface\n",
    "from nipype.interfaces.freesurfer import ReconAll, MRIsCombine, MRIsConvert\n",
    "from bids.layout import BIDSLayout"
   ]
  },
  {
   "cell_type": "code",
   "execution_count": null,
   "metadata": {},
   "outputs": [],
   "source": [
    "def get_niftis(subject_id, data_dir):\n",
    "    \"\"\"\n",
    "    DataGrabber function from \n",
    "    https://miykael.github.io/nipype_tutorial/notebooks/basic_data_input_bids.html\n",
    "    \"\"\"\n",
    "    from bids.layout import BIDSLayout\n",
    "    \n",
    "    layout = BIDSLayout(data_dir)\n",
    "    t1s = [layout.get(return_type='filename', subject=subject_id, suffix='T1w',\n",
    "                                          extension='nii.gz')]\n",
    "    return (layout, t1s)\n",
    "\n",
    "get_niftis(\"193\", \"/home/data/nbc/Sutherland_HIVCB/dset\")"
   ]
  },
  {
   "cell_type": "code",
   "execution_count": 9,
   "metadata": {},
   "outputs": [
    {
     "data": {
      "text/plain": [
       "['/scratch/nbc/pvier002/3dbrain/dset/sub-193/anat/sub-193_run-01_T1w.nii.gz',\n",
       " '/scratch/nbc/pvier002/3dbrain/dset/sub-193/anat/sub-193_run-02_T1w.nii.gz']"
      ]
     },
     "execution_count": 9,
     "metadata": {},
     "output_type": "execute_result"
    }
   ],
   "source": [
    "data_dir = \"/scratch/nbc/pvier002/3dbrain/dset\"\n",
    "subject_id = ['193']\n",
    "layout = BIDSLayout(data_dir)\n",
    "layout.get(return_type='filename', subject=subject_id, suffix='T1w', extension=['.nii', 'nii.gz'])\n",
    "\n",
    "#files = [f.filename for f in layout.get(return_type='filename', subject=subject_id, suffix='T1w', extension=['.nii', 'nii.gz'])]\n",
    "#files"
   ]
  },
  {
   "cell_type": "code",
   "execution_count": null,
   "metadata": {},
   "outputs": [],
   "source": []
  },
  {
   "cell_type": "code",
   "execution_count": null,
   "metadata": {},
   "outputs": [],
   "source": []
  }
 ],
 "metadata": {
  "kernelspec": {
   "display_name": "Python 3 (ipykernel)",
   "language": "python",
   "name": "python3"
  },
  "language_info": {
   "codemirror_mode": {
    "name": "ipython",
    "version": 3
   },
   "file_extension": ".py",
   "mimetype": "text/x-python",
   "name": "python",
   "nbconvert_exporter": "python",
   "pygments_lexer": "ipython3",
   "version": "3.8.16"
  }
 },
 "nbformat": 4,
 "nbformat_minor": 4
}
